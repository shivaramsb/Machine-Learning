{
  "nbformat": 4,
  "nbformat_minor": 0,
  "metadata": {
    "colab": {
      "provenance": []
    },
    "kernelspec": {
      "name": "python3",
      "display_name": "Python 3"
    },
    "language_info": {
      "name": "python"
    }
  },
  "cells": [
    {
      "cell_type": "markdown",
      "source": [
        "**1. Explain the concept of overfitting and underfitting.**"
      ],
      "metadata": {
        "id": "ozbVn62qfqgv"
      }
    },
    {
      "cell_type": "markdown",
      "source": [
        "* Overfitting: Occurs when a model learns the training data too well, including noise and outliers, leading to poor generalization on new, unseen data. The model performs well on training data but poorly on validation/test data.\n",
        "* Underfitting: Occurs when a model is too simple to capture the underlying patterns in the data, resulting in poor performance on both training and validation/test data. The model fails to learn the relationships in the data."
      ],
      "metadata": {
        "id": "gzFDEKo0fqlE"
      }
    },
    {
      "cell_type": "markdown",
      "source": [
        "**2. Define and differentiate between training, validation, and test sets.**"
      ],
      "metadata": {
        "id": "PGBQB9QYfqpH"
      }
    },
    {
      "cell_type": "markdown",
      "source": [
        "* Training Set: Used to train the model. The model learns the patterns and relationships in the data from this set.\n",
        "* Validation Set: Used to tune model hyperparameters and make decisions about the model architecture. It helps prevent overfitting by providing an unbiased evaluation of the model during training.\n",
        "* Test Set: Used to evaluate the final model's performance after training and tuning. It provides an unbiased assessment of the model's generalization ability to new, unseen data."
      ],
      "metadata": {
        "id": "4ebUsRCqfqsy"
      }
    },
    {
      "cell_type": "markdown",
      "source": [
        "**3.  Describe the importance of feature selection in machine learning.**"
      ],
      "metadata": {
        "id": "U35I4jDmfqwP"
      }
    },
    {
      "cell_type": "markdown",
      "source": [
        "Feature selection involves selecting the most relevant features for training a model. It is important because it:\n",
        "\n",
        "Improves model performance by reducing overfitting.\n",
        "Decreases training time by reducing the complexity of the model.\n",
        "Enhances interpretability by focusing on the most important features.\n",
        "Helps in identifying and removing redundant or irrelevant features that do not contribute to the predictive power of the model."
      ],
      "metadata": {
        "id": "goRM3ViUfqzg"
      }
    },
    {
      "cell_type": "markdown",
      "source": [
        "**4. What is cross-validation, and why is it used?**"
      ],
      "metadata": {
        "id": "Odqj2q9HgYKZ"
      }
    },
    {
      "cell_type": "markdown",
      "source": [
        "Cross-validation is a technique used to assess the generalization performance of a machine learning model. It involves splitting the data into multiple subsets (folds) and training/testing the model on different combinations of these subsets. The most common form is k-fold cross-validation. It is used to:\n",
        "\n",
        "Provide a more accurate estimate of model performance.\n",
        "Reduce the variance associated with a single train-test split.\n",
        "Help in selecting the best model and tuning hyperparameters."
      ],
      "metadata": {
        "id": "BXenlsftgYQR"
      }
    },
    {
      "cell_type": "markdown",
      "source": [
        "**5. Explain the concept of a confusion matrix.**"
      ],
      "metadata": {
        "id": "UQwjselDgYUe"
      }
    },
    {
      "cell_type": "markdown",
      "source": [
        "A confusion matrix is a table used to evaluate the performance of a classification model. It summarizes the counts of true positive (TP), true negative (TN), false positive (FP), and false negative (FN) predictions. It helps in understanding the types of errors made by the model and calculating performance metrics such as accuracy, precision, recall, and F1-score.\n",
        "           Predicted Positive   Predicted Negative\n",
        "Actual Positive       TP                 FN\n",
        "Actual Negative       FP                 TN\n"
      ],
      "metadata": {
        "id": "kuxmiu6cgYb-"
      }
    }
  ]
}