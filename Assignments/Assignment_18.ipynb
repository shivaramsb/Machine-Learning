{
  "nbformat": 4,
  "nbformat_minor": 0,
  "metadata": {
    "colab": {
      "provenance": []
    },
    "kernelspec": {
      "name": "python3",
      "display_name": "Python 3"
    },
    "language_info": {
      "name": "python"
    }
  },
  "cells": [
    {
      "cell_type": "markdown",
      "source": [
        "**1. What are the key tasks involved in getting ready to work with machine learning modeling?**"
      ],
      "metadata": {
        "id": "ozbVn62qfqgv"
      }
    },
    {
      "cell_type": "markdown",
      "source": [
        "* Data Collection: Gathering the required data from various sources.\n",
        "* Data Cleaning: Handling missing values, correcting errors, and removing duplicates.\n",
        "* Data Integration: Combining data from different sources into a cohesive dataset.\n",
        "* Data Transformation: Normalizing or scaling data, encoding categorical variables.\n",
        "* Data Reduction: Reducing the volume of data through feature selection or dimensionality reduction.\n",
        "* Data Splitting: Dividing the dataset into training, validation, and test sets.\n",
        "* Feature Engineering: Creating new features or modifying existing ones to improve model performance."
      ],
      "metadata": {
        "id": "gzFDEKo0fqlE"
      }
    },
    {
      "cell_type": "markdown",
      "source": [
        "**2.  What are the different forms of data used in machine learning? Give a specific example for each of them.**"
      ],
      "metadata": {
        "id": "PGBQB9QYfqpH"
      }
    },
    {
      "cell_type": "markdown",
      "source": [
        "Numerical Data: Data represented in numbers (e.g., age, salary). Example: A dataset of employee records with fields for age and salary.\n",
        "Categorical Data: Data that can be divided into categories (e.g., gender, country). Example: A dataset of customers with fields for gender (male, female) and country (USA, Canada).\n",
        "Time-Series Data: Data points indexed in time order (e.g., stock prices over time). Example: A dataset of daily stock prices for a company over a year.\n",
        "Text Data: Data in textual format (e.g., reviews, comments). Example: A dataset of product reviews from an e-commerce site.\n",
        "Image Data: Data in image format (e.g., photos, medical images). Example: A dataset of X-ray images for diagnosing diseases.\n",
        "Audio Data: Data in audio format (e.g., speech recordings, music). Example: A dataset of recorded customer service calls for sentiment analysis."
      ],
      "metadata": {
        "id": "4ebUsRCqfqsy"
      }
    },
    {
      "cell_type": "markdown",
      "source": [
        "**3.  Distinguish : Numeric vs. categorical attributes**"
      ],
      "metadata": {
        "id": "U35I4jDmfqwP"
      }
    },
    {
      "cell_type": "markdown",
      "source": [
        "* Numeric Attributes: Attributes that take numerical values and can be continuous or discrete (e.g., height, weight, age).\n",
        "* Categorical Attributes: Attributes that represent categories or groups and cannot be quantified (e.g., gender, color, type)."
      ],
      "metadata": {
        "id": "goRM3ViUfqzg"
      }
    },
    {
      "cell_type": "markdown",
      "source": [
        "**4. Feature selection vs. dimensionality reduction**"
      ],
      "metadata": {
        "id": "Odqj2q9HgYKZ"
      }
    },
    {
      "cell_type": "markdown",
      "source": [
        "Feature Selection: The process of selecting a subset of relevant features for use in model building (e.g., removing redundant or irrelevant features).\n",
        "Dimensionality Reduction: The process of reducing the number of features by transforming data into a lower-dimensional space (e.g., Principal Component Analysis (PCA), t-SNE)."
      ],
      "metadata": {
        "id": "BXenlsftgYQR"
      }
    },
    {
      "cell_type": "markdown",
      "source": [
        "**5. Make quick notes on any two of the following: PCA (Principal Component Analysis)**"
      ],
      "metadata": {
        "id": "UQwjselDgYUe"
      }
    },
    {
      "cell_type": "markdown",
      "source": [
        "Principal Component Analysis (PCA) is a dimensionality reduction technique that transforms data into a new coordinate system. The first principal component captures the maximum variance, the second captures the remaining variance orthogonal to the first, and so on. PCA is used to reduce the number of features while retaining most of the data's variance."
      ],
      "metadata": {
        "id": "kuxmiu6cgYb-"
      }
    }
  ]
}