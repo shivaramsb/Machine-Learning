{
  "nbformat": 4,
  "nbformat_minor": 0,
  "metadata": {
    "colab": {
      "provenance": []
    },
    "kernelspec": {
      "name": "python3",
      "display_name": "Python 3"
    },
    "language_info": {
      "name": "python"
    }
  },
  "cells": [
    {
      "cell_type": "markdown",
      "source": [
        "**1. What does one mean by the term \"machine learning?**"
      ],
      "metadata": {
        "id": "hA-9hz-yDKc_"
      }
    },
    {
      "cell_type": "markdown",
      "source": [
        "Machine learning is a field of artificial intelligence that involves the creation of algorithms that enable computers to learn from and make predictions or decisions based on data. It focuses on the development of models that can identify patterns, make decisions, and improve their performance over time with exposure to more data."
      ],
      "metadata": {
        "id": "wg0DgCIiDKlF"
      }
    },
    {
      "cell_type": "markdown",
      "source": [
        "**2. Can you think of 4 distinct types of issues where it shines?**"
      ],
      "metadata": {
        "id": "KHmIEcRODKuT"
      }
    },
    {
      "cell_type": "markdown",
      "source": [
        "* Image Recognition: Identifying objects, people, and scenes in images.\n",
        "* Natural Language Processing (NLP): Understanding and generating human language, such as in chatbots and language translation.\n",
        "* Predictive Maintenance: Predicting equipment failures in industrial settings to schedule timely maintenance.\n",
        "* Fraud Detection: Identifying fraudulent transactions in financial systems."
      ],
      "metadata": {
        "id": "CcilrtknDKyR"
      }
    },
    {
      "cell_type": "markdown",
      "source": [
        "**3. What is a labeled training set, and how does it work?**"
      ],
      "metadata": {
        "id": "kWbTX5bFDK1h"
      }
    },
    {
      "cell_type": "markdown",
      "source": [
        "A labeled training set is a dataset used in supervised learning that includes input data along with the corresponding correct output labels. During training, the machine learning algorithm learns the mapping from inputs to outputs, which allows it to make predictions on new, unseen data. For example, in a labeled dataset for image classification, each image would have an associated label indicating what object is in the image."
      ],
      "metadata": {
        "id": "3gaw3bxpDK4s"
      }
    },
    {
      "cell_type": "markdown",
      "source": [
        "**4. What are the two most important tasks that are supervised?**"
      ],
      "metadata": {
        "id": "D2oGBm_jDK73"
      }
    },
    {
      "cell_type": "markdown",
      "source": [
        "* Classification: Assigning input data to predefined categories, such as classifying emails as spam or non-spam.\n",
        "* Regression: Predicting a continuous output value, such as predicting house prices based on features like location, size, and age."
      ],
      "metadata": {
        "id": "HXaUbHS2DK-1"
      }
    },
    {
      "cell_type": "markdown",
      "source": [
        "**5. Can you think of four examples of unsupervised tasks?**"
      ],
      "metadata": {
        "id": "rHiRoazODLB8"
      }
    },
    {
      "cell_type": "markdown",
      "source": [
        "* Clustering: Grouping similar data points together, such as customer segmentation.\n",
        "* Dimensionality Reduction: Reducing the number of features in a dataset while preserving important information, such as Principal Component Analysis (PCA).\n",
        "* Anomaly Detection: Identifying outliers or unusual data points, such as detecting fraudulent transactions.\n",
        "* Association Rule Learning: Discovering interesting relationships between variables in large datasets, such as market basket analysis in retail."
      ],
      "metadata": {
        "id": "WCDnvCM9DLFC"
      }
    },
    {
      "cell_type": "markdown",
      "source": [
        "**6. State the machine learning model that would be best to make a robot walk through various unfamiliar terrains.**"
      ],
      "metadata": {
        "id": "trwihDG-DLIU"
      }
    },
    {
      "cell_type": "markdown",
      "source": [
        "A reinforcement learning model would be best suited for this task. Reinforcement learning involves training an agent to make a sequence of decisions by rewarding it for good actions and penalizing it for bad actions. This allows the robot to learn optimal strategies for navigating through various terrains by trial and error."
      ],
      "metadata": {
        "id": "iW1l7PnZDLLj"
      }
    },
    {
      "cell_type": "markdown",
      "source": [
        "**7. Which algorithm will you use to divide your customers into different groups?**"
      ],
      "metadata": {
        "id": "Y_S775Y4DLOq"
      }
    },
    {
      "cell_type": "markdown",
      "source": [
        "The K-means clustering algorithm is commonly used to divide customers into different groups based on similarities in their data. It is an unsupervised learning algorithm that partitions the dataset into K clusters by minimizing the variance within each cluster.\n",
        "\n"
      ],
      "metadata": {
        "id": "4neAhuolDLRy"
      }
    },
    {
      "cell_type": "markdown",
      "source": [
        "**8. Will you consider the problem of spam detection to be a supervised or unsupervised learning problem?**"
      ],
      "metadata": {
        "id": "1Zo41wUrDLUz"
      }
    },
    {
      "cell_type": "markdown",
      "source": [
        "Spam detection is considered a supervised learning problem because it involves training a model on a labeled dataset where emails are marked as either spam or non-spam. The model learns to classify new emails based on these labels."
      ],
      "metadata": {
        "id": "Lb-N2thRE04N"
      }
    },
    {
      "cell_type": "markdown",
      "source": [
        "**9. What is the concept of an online learning system?**"
      ],
      "metadata": {
        "id": "5E3TVcaQE00e"
      }
    },
    {
      "cell_type": "markdown",
      "source": [
        "An online learning system is a machine learning system that updates its model incrementally as new data arrives, rather than being trained in batch mode on a fixed dataset. This allows the model to adapt quickly to new patterns and data, making it suitable for applications where data is continuously generated, such as stock price prediction or real-time recommendation systems."
      ],
      "metadata": {
        "id": "Jk2yuF9BE0vw"
      }
    },
    {
      "cell_type": "markdown",
      "source": [
        "**10. What is out-of-core learning, and how does it differ from core learning?**"
      ],
      "metadata": {
        "id": "1vJpuV1pE_hc"
      }
    },
    {
      "cell_type": "markdown",
      "source": [
        "Out-of-core learning refers to the technique of training machine learning models on datasets that are too large to fit into the computer's memory (RAM) all at once. It processes the data in small batches, storing intermediate results to disk. This contrasts with in-core learning (or core learning), where the entire dataset fits into memory and can be processed all at once."
      ],
      "metadata": {
        "id": "_nG2JFV5E_XM"
      }
    }
  ]
}