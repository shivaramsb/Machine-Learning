{
  "nbformat": 4,
  "nbformat_minor": 0,
  "metadata": {
    "colab": {
      "provenance": []
    },
    "kernelspec": {
      "name": "python3",
      "display_name": "Python 3"
    },
    "language_info": {
      "name": "python"
    }
  },
  "cells": [
    {
      "cell_type": "markdown",
      "source": [
        "**1.What is a descriptive model's main purpose? Give examples of real-world problems that descriptive models were used to solve.**"
      ],
      "metadata": {
        "id": "ozbVn62qfqgv"
      }
    },
    {
      "cell_type": "markdown",
      "source": [
        "Main Purpose of Descriptive Models:\n",
        "Descriptive models aim to summarize and understand the patterns, relationships, and structures within data. They do not make predictions but provide insights into the underlying characteristics of the data.\n",
        "\n",
        "Examples of Real-World Problems:\n",
        "\n",
        "Customer Segmentation: Descriptive models can identify distinct customer groups based on purchasing behavior, demographics, and preferences, aiding in targeted marketing strategies.\n",
        "Market Basket Analysis: Analyzes transaction data to find associations between products, such as frequently bought together items, which helps in cross-selling and upselling.\n",
        "Healthcare Analysis: Summarizes patient data to understand disease patterns, treatment effectiveness, and patient outcomes, aiding in medical research and policy-making."
      ],
      "metadata": {
        "id": "gzFDEKo0fqlE"
      }
    },
    {
      "cell_type": "markdown",
      "source": [
        "**2. Distinguish: Descriptive vs. Predictive Models**"
      ],
      "metadata": {
        "id": "PGBQB9QYfqpH"
      }
    },
    {
      "cell_type": "markdown",
      "source": [
        "Descriptive Models: Summarize and describe the main features of a dataset. They are used for understanding patterns and relationships within the data.\n",
        "Example: Market basket analysis to identify product associations.\n",
        "Predictive Models: Use historical data to make predictions about future outcomes. They focus on forecasting and estimating unknown values.\n",
        "Example: Predicting customer churn using past behavior data."
      ],
      "metadata": {
        "id": "4ebUsRCqfqsy"
      }
    },
    {
      "cell_type": "markdown",
      "source": [
        "**3.  Underfitting vs. Overfitting the Model**"
      ],
      "metadata": {
        "id": "U35I4jDmfqwP"
      }
    },
    {
      "cell_type": "markdown",
      "source": [
        "Underfitting: Occurs when a model is too simple and fails to capture the underlying patterns in the data, resulting in poor performance on both training and test data.\n",
        "Solution: Increase model complexity, add more features, or use a different algorithm.\n",
        "Overfitting: Occurs when a model is too complex and captures noise in the training data, resulting in excellent performance on training data but poor generalization to new data.\n",
        "Solution: Regularization, pruning, cross-validation, or using simpler models."
      ],
      "metadata": {
        "id": "goRM3ViUfqzg"
      }
    },
    {
      "cell_type": "markdown",
      "source": [
        "**4. Bootstrapping vs. Cross-Validation**"
      ],
      "metadata": {
        "id": "Odqj2q9HgYKZ"
      }
    },
    {
      "cell_type": "markdown",
      "source": [
        "Bootstrapping: A resampling method that involves repeatedly sampling from the original dataset with replacement to create multiple new datasets. It is used to estimate the distribution of a statistic.\n",
        "Aim: Assess the variability and confidence intervals of the statistic.\n",
        "Cross-Validation: A technique for assessing how the results of a statistical analysis will generalize to an independent dataset. It involves partitioning the data into subsets, training the model on some subsets, and validating it on the remaining subsets.\n",
        "Aim: Evaluate model performance and prevent overfitting."
      ],
      "metadata": {
        "id": "BXenlsftgYQR"
      }
    },
    {
      "cell_type": "markdown",
      "source": [
        "**5. Make quick notes on:LOOCV (Leave-One-Out Cross-Validation):**"
      ],
      "metadata": {
        "id": "UQwjselDgYUe"
      }
    },
    {
      "cell_type": "markdown",
      "source": [
        "Definition: A special case of K-fold cross-validation where K equals the number of data points. Each iteration uses one data point as the validation set and the remaining data as the training set.\n",
        "Usage: Provides an unbiased estimate of model performance but can be computationally expensive for large datasets."
      ],
      "metadata": {
        "id": "kuxmiu6cgYb-"
      }
    }
  ]
}