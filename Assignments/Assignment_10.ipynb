{
  "nbformat": 4,
  "nbformat_minor": 0,
  "metadata": {
    "colab": {
      "provenance": []
    },
    "kernelspec": {
      "name": "python3",
      "display_name": "Python 3"
    },
    "language_info": {
      "name": "python"
    }
  },
  "cells": [
    {
      "cell_type": "markdown",
      "source": [
        "**1. Define machine learning and describe its importance.**"
      ],
      "metadata": {
        "id": "ozbVn62qfqgv"
      }
    },
    {
      "cell_type": "markdown",
      "source": [
        "Machine learning is a subset of artificial intelligence that involves training algorithms to make predictions or decisions based on data. It allows computers to learn and improve from experience without being explicitly programmed. Its importance lies in its ability to automate and optimize complex processes, extract insights from large datasets, and solve problems that are impractical or impossible to solve using traditional programming methods."
      ],
      "metadata": {
        "id": "gzFDEKo0fqlE"
      }
    },
    {
      "cell_type": "markdown",
      "source": [
        "**2. List and describe four types of machine learning (supervised, unsupervised, semi-supervised, reinforcement).**"
      ],
      "metadata": {
        "id": "PGBQB9QYfqpH"
      }
    },
    {
      "cell_type": "markdown",
      "source": [
        "* Supervised Learning: Involves training a model on labeled data, where the input-output pairs are known. Examples include classification and regression tasks.\n",
        "* Unsupervised Learning: Involves training a model on unlabeled data, allowing the model to find hidden patterns or intrinsic structures. Examples include clustering and dimensionality reduction.\n",
        "* Semi-Supervised Learning: Combines labeled and unlabeled data for training, leveraging the small amount of labeled data to guide the learning process. This approach is useful when obtaining labeled data is expensive or time-consuming.\n",
        "* Reinforcement Learning: Involves training an agent to make sequences of decisions by rewarding or punishing it based on its actions. The agent learns to maximize cumulative rewards over time. Examples include game playing and robotic control."
      ],
      "metadata": {
        "id": "4ebUsRCqfqsy"
      }
    },
    {
      "cell_type": "markdown",
      "source": [
        "**3.  Explain the difference between supervised and unsupervised learning with examples.**"
      ],
      "metadata": {
        "id": "U35I4jDmfqwP"
      }
    },
    {
      "cell_type": "markdown",
      "source": [
        "Supervised Learning: The model is trained on a dataset containing input-output pairs, and it learns to map inputs to outputs. For example, a spam filter trained on emails labeled as \"spam\" or \"not spam\" learns to classify new emails.\n",
        "Unsupervised Learning: The model is trained on a dataset without labeled outputs, and it tries to find patterns or groupings within the data. For example, customer segmentation in marketing where customers are grouped based on purchasing behavior without predefined labels."
      ],
      "metadata": {
        "id": "goRM3ViUfqzg"
      }
    },
    {
      "cell_type": "markdown",
      "source": [
        "**4. Describe what a labeled dataset is and its significance in supervised learning.**"
      ],
      "metadata": {
        "id": "Odqj2q9HgYKZ"
      }
    },
    {
      "cell_type": "markdown",
      "source": [
        "A labeled dataset contains input data along with the corresponding output labels. In supervised learning, the model uses these labels to learn the mapping between inputs and outputs. The labeled data provides the ground truth that the model needs to learn from, making it crucial for training accurate and reliable supervised learning models."
      ],
      "metadata": {
        "id": "BXenlsftgYQR"
      }
    },
    {
      "cell_type": "markdown",
      "source": [
        "**5. What are the key steps in a typical machine learning workflow?**"
      ],
      "metadata": {
        "id": "UQwjselDgYUe"
      }
    },
    {
      "cell_type": "markdown",
      "source": [
        "* Define the problem and gather data.\n",
        "* Explore and preprocess the data (cleaning, handling missing values, feature engineering).\n",
        "* Split the data into training, validation, and test sets.\n",
        "* Select and train a machine learning model on the training set.\n",
        "* Evaluate the model's performance on the validation set.\n",
        "* Tune hyperparameters and improve the model.\n",
        "* Evaluate the final model on the test set to assess its generalization.\n",
        "* Deploy the model and monitor its performance in production.\n",
        "\n"
      ],
      "metadata": {
        "id": "kuxmiu6cgYb-"
      }
    }
  ]
}