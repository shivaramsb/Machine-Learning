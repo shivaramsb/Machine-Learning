{
  "nbformat": 4,
  "nbformat_minor": 0,
  "metadata": {
    "colab": {
      "provenance": []
    },
    "kernelspec": {
      "name": "python3",
      "display_name": "Python 3"
    },
    "language_info": {
      "name": "python"
    }
  },
  "cells": [
    {
      "cell_type": "markdown",
      "source": [
        "**1. What are the key tasks involved in getting ready to work with machine learning modeling?**"
      ],
      "metadata": {
        "id": "ozbVn62qfqgv"
      }
    },
    {
      "cell_type": "markdown",
      "source": [
        "The key tasks involved in preparing for machine learning modeling include:\n",
        "\n",
        "* Problem Definition: Clearly define the problem you want to solve and determine if it is suitable for machine learning.\n",
        "* Data Collection: Gather relevant data from various sources. Ensure that the data is representative of the problem you are addressing.\n",
        "Data Cleaning: Handle missing values, remove duplicates, and correct errors to ensure the data is clean.\n",
        "* Data Preprocessing: Normalize or standardize numerical data, encode categorical variables, and create new features as necessary.\n",
        "Exploratory Data Analysis (EDA): Analyze the data to understand its distribution, patterns, and relationships. Use visualizations and statistical summaries.\n",
        "* Feature Engineering: Extract meaningful features from the raw data that will help the model learn patterns.\n",
        "* Splitting Data: Divide the data into training, validation, and test sets to evaluate the model's performance."
      ],
      "metadata": {
        "id": "gzFDEKo0fqlE"
      }
    },
    {
      "cell_type": "markdown",
      "source": [
        "**2. What are the different forms of data used in machine learning? Give a specific example for each of them.**"
      ],
      "metadata": {
        "id": "PGBQB9QYfqpH"
      }
    },
    {
      "cell_type": "markdown",
      "source": [
        "* Numerical Data: Data that consists of numbers and can be continuous or discrete.\n",
        "\n",
        "Example: House prices (e.g., $250,000), temperature readings (e.g., 98.6°F).\n",
        "* Categorical Data: Data that represents categories or groups.\n",
        "\n",
        "Example: Types of animals (e.g., dog, cat, bird), colors (e.g., red, blue, green).\n",
        "* Ordinal Data: Categorical data with a meaningful order but no fixed interval between values.\n",
        "\n",
        "Example: Customer satisfaction ratings (e.g., very satisfied, satisfied, neutral, dissatisfied, very dissatisfied).\n",
        "* Text Data: Data in the form of written text.\n",
        "\n",
        "Example: Customer reviews, social media posts.\n",
        "* Time Series Data: Data points collected or recorded at specific time intervals.\n",
        "\n",
        "Example: Stock prices over time, daily weather measurements.\n",
        "* Image Data: Visual data represented in pixel values.\n",
        "\n",
        "Example: Photographs, medical scans."
      ],
      "metadata": {
        "id": "4ebUsRCqfqsy"
      }
    },
    {
      "cell_type": "markdown",
      "source": [
        "**3. Distinguish:Numeric vs. Categorical Attributes**"
      ],
      "metadata": {
        "id": "U35I4jDmfqwP"
      }
    },
    {
      "cell_type": "markdown",
      "source": [
        "* Numeric Attributes: Represent measurable quantities and are expressed as numbers. They can be either continuous (e.g., height, weight) or discrete (e.g., number of children, number of cars).\n",
        "* Categorical Attributes: Represent distinct groups or categories. They do not have a numerical value but can be ordered (ordinal) or unordered (nominal). Examples include gender (male, female), and car brands (Toyota, Ford, Honda)."
      ],
      "metadata": {
        "id": "goRM3ViUfqzg"
      }
    },
    {
      "cell_type": "markdown",
      "source": [
        "**4. Make quick notes on any two of the following:**"
      ],
      "metadata": {
        "id": "Odqj2q9HgYKZ"
      }
    },
    {
      "cell_type": "markdown",
      "source": [
        "* 1. The Histogram\n",
        "Answer:\n",
        "A histogram is a graphical representation of the distribution of numerical data. It divides the data into bins (intervals) and counts the number of observations in each bin. Histograms help in understanding the shape, spread, and central tendency of the data. They are useful for identifying skewness, kurtosis, and outliers.\n",
        "\n",
        "* 2. Use a Scatter Plot\n",
        "Answer:\n",
        "A scatter plot is a type of data visualization that displays the relationship between two numerical variables. Each point on the plot represents an observation, with its position determined by the values of the two variables. Scatter plots are useful for identifying correlations, trends, clusters, and potential outliers in the data."
      ],
      "metadata": {
        "id": "BXenlsftgYQR"
      }
    },
    {
      "cell_type": "markdown",
      "source": [
        "**5. Why is it necessary to investigate data? Is there a discrepancy in how qualitative and quantitative data are explored?**"
      ],
      "metadata": {
        "id": "UQwjselDgYUe"
      }
    },
    {
      "cell_type": "markdown",
      "source": [
        "Investigating data is crucial because it helps to:\n",
        "\n",
        "* Understand the underlying patterns and relationships.\n",
        "* Identify data quality issues such as missing values, outliers, and inconsistencies.\n",
        "* Select appropriate features and transformations for modeling.\n",
        "* Choose the right algorithms and evaluation metrics.\n",
        "\n",
        "Discrepancy in Exploring Qualitative and Quantitative Data:\n",
        "Yes, there is a discrepancy:\n",
        "* Qualitative Data: Typically explored using thematic analysis, coding, and qualitative visualization methods (e.g., word clouds, frequency charts). It involves understanding the context, themes, and patterns in the data.\n",
        "* Quantitative Data: Explored using statistical analysis, numerical summaries (mean, median, mode), and quantitative visualization methods (e.g., histograms, scatter plots, box plots). It focuses on numerical relationships, distributions, and hypothesis testing."
      ],
      "metadata": {
        "id": "kuxmiu6cgYb-"
      }
    }
  ]
}