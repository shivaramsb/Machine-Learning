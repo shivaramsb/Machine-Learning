{
  "nbformat": 4,
  "nbformat_minor": 0,
  "metadata": {
    "colab": {
      "provenance": []
    },
    "kernelspec": {
      "name": "python3",
      "display_name": "Python 3"
    },
    "language_info": {
      "name": "python"
    }
  },
  "cells": [
    {
      "cell_type": "markdown",
      "source": [
        "**1. What are the various histogram shapes? What exactly are ‘bins’?**"
      ],
      "metadata": {
        "id": "ozbVn62qfqgv"
      }
    },
    {
      "cell_type": "markdown",
      "source": [
        "Histogram Shapes:\n",
        "\n",
        "Uniform Distribution: All bins have approximately the same frequency.\n",
        "Normal Distribution (Bell Curve): Data is symmetrically distributed around the mean, with most data points clustered in the middle and fewer at the extremes.\n",
        "Skewed Distribution: Data is asymmetrical.\n",
        "Right-Skewed (Positive Skew): The tail is longer on the right side.\n",
        "Left-Skewed (Negative Skew): The tail is longer on the left side.\n",
        "Bimodal Distribution: Two distinct peaks indicating two modes.\n",
        "Multimodal Distribution: More than two peaks.\n",
        "\n",
        "Bins:\n",
        "Bins are the intervals or ranges into which data is grouped in a histogram. Each bin represents a specific range of values, and the height of the bin indicates the number of observations falling within that range."
      ],
      "metadata": {
        "id": "gzFDEKo0fqlE"
      }
    },
    {
      "cell_type": "markdown",
      "source": [
        "**2.  How do we deal with data outliers?**"
      ],
      "metadata": {
        "id": "PGBQB9QYfqpH"
      }
    },
    {
      "cell_type": "markdown",
      "source": [
        "Dealing with outliers can be done through several approaches:\n",
        "\n",
        "* Identification: Use statistical methods (e.g., Z-scores, IQR) or visualizations (e.g., box plots, scatter plots) to detect outliers.\n",
        "* Investigation: Determine if outliers are due to data entry errors, measurement errors, or if they are legitimate but rare observations.\n",
        "* Treatment:\n",
        "Remove: If outliers are errors or not relevant to the analysis.\n",
        "Cap/Floor: Replace extreme values with a maximum or minimum threshold.\n",
        "Transformation: Apply transformations like logarithmic or square root to reduce the effect of outliers.\n",
        "Segmentation: Analyze outliers separately if they represent a significant and meaningful group."
      ],
      "metadata": {
        "id": "4ebUsRCqfqsy"
      }
    },
    {
      "cell_type": "markdown",
      "source": [
        "**3. What are the various central inclination measures? Why does mean vary too much from median in certain data sets?**"
      ],
      "metadata": {
        "id": "U35I4jDmfqwP"
      }
    },
    {
      "cell_type": "markdown",
      "source": [
        "Central Inclination Measures:\n",
        "\n",
        "Mean: The average of all data points.\n",
        "Median: The middle value when data points are sorted in ascending order.\n",
        "Mode: The most frequently occurring value(s) in the data set.\n",
        "Mean vs. Median Variation:\n",
        "The mean can vary significantly from the median in data sets with outliers or skewed distributions. In a right-skewed distribution, the mean is typically higher than the median, while in a left-skewed distribution, the mean is lower than the median. Outliers can disproportionately affect the mean, making it less robust compared to the median."
      ],
      "metadata": {
        "id": "goRM3ViUfqzg"
      }
    },
    {
      "cell_type": "markdown",
      "source": [
        "**4. Describe how a scatter plot can be used to investigate bivariate relationships. Is it possible to find outliers using a scatter plot?**"
      ],
      "metadata": {
        "id": "Odqj2q9HgYKZ"
      }
    },
    {
      "cell_type": "markdown",
      "source": [
        "Using Scatter Plot to Investigate Bivariate Relationships:\n",
        "A scatter plot displays individual data points on a two-dimensional graph, with one variable on the x-axis and another on the y-axis. It helps to:\n",
        "\n",
        "Visualize Relationships: Identify patterns, trends, and correlations between two variables.\n",
        "Determine Linearity: Assess if the relationship is linear or nonlinear.\n",
        "Identify Clusters: Recognize groups of data points that exhibit similar behavior.\n",
        "Detect Outliers: Outliers appear as points that deviate significantly from the overall pattern of the data.\n",
        "Finding Outliers:\n",
        "Yes, scatter plots can help identify outliers as points that lie far away from the general cluster of data points, indicating they do not follow the common pattern or trend."
      ],
      "metadata": {
        "id": "BXenlsftgYQR"
      }
    },
    {
      "cell_type": "markdown",
      "source": [
        "**5. Describe how cross-tabs can be used to figure out how two variables are related.**"
      ],
      "metadata": {
        "id": "UQwjselDgYUe"
      }
    },
    {
      "cell_type": "markdown",
      "source": [
        "Cross-tabs (Cross-tabulations):\n",
        "Cross-tabulations are a method of quantitatively analyzing the relationship between two categorical variables. They involve creating a matrix (table) that displays the frequency distribution of the variables' categories.\n",
        "\n",
        "Usage:\n",
        "\n",
        "Table Creation: Rows represent categories of one variable, and columns represent categories of another variable.\n",
        "Frequency Counts: The cells in the table show the count of observations for each combination of categories.\n",
        "Percentage Calculation: Convert counts to percentages to understand the proportion of each category combination.\n",
        "Chi-Square Test: Perform a statistical test to determine if there is a significant association between the two variables.\n",
        "Example:\n",
        "A cross-tab could be used to analyze the relationship between gender (male, female) and preference for a product (like, dislike). The table would show the number of males and females who like or dislike the product, helping to identify any potential association between gender and product preference."
      ],
      "metadata": {
        "id": "kuxmiu6cgYb-"
      }
    }
  ]
}